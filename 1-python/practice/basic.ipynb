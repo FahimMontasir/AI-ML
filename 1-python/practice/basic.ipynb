{
 "cells": [
  {
   "cell_type": "code",
   "execution_count": 1,
   "id": "913bce2c",
   "metadata": {},
   "outputs": [
    {
     "name": "stdout",
     "output_type": "stream",
     "text": [
      "hello world\n"
     ]
    }
   ],
   "source": [
    "print(\"hello world\")"
   ]
  },
  {
   "cell_type": "code",
   "execution_count": 1,
   "id": "4482db90",
   "metadata": {},
   "outputs": [
    {
     "name": "stdout",
     "output_type": "stream",
     "text": [
      "[1, 2, 3]\n"
     ]
    }
   ],
   "source": [
    "class Node:\n",
    "    def __init__(self, value, nxt=None):\n",
    "        self.value = value\n",
    "        self.next = nxt\n",
    "\n",
    "class LinkedList:\n",
    "    def __init__(self):\n",
    "        self.head = None\n",
    "\n",
    "    def prepend(self, value):\n",
    "        self.head = Node(value, self.head)\n",
    "\n",
    "    def to_list(self):\n",
    "        cur, out = self.head, []\n",
    "        while cur:\n",
    "            out.append(cur.value)\n",
    "            cur = cur.next\n",
    "        return out\n",
    "\n",
    "ll = LinkedList()\n",
    "ll.prepend(3)\n",
    "ll.prepend(2)\n",
    "ll.prepend(1)\n",
    "print(ll.to_list())  # [1, 2, 3]"
   ]
  }
 ],
 "metadata": {
  "kernelspec": {
   "display_name": ".venv",
   "language": "python",
   "name": "python3"
  },
  "language_info": {
   "codemirror_mode": {
    "name": "ipython",
    "version": 3
   },
   "file_extension": ".py",
   "mimetype": "text/x-python",
   "name": "python",
   "nbconvert_exporter": "python",
   "pygments_lexer": "ipython3",
   "version": "3.13.5"
  }
 },
 "nbformat": 4,
 "nbformat_minor": 5
}
