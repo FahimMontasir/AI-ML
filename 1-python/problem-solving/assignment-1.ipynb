{
 "cells": [
  {
   "cell_type": "code",
   "execution_count": 3,
   "id": "b0c4c2f9",
   "metadata": {},
   "outputs": [
    {
     "name": "stdout",
     "output_type": "stream",
     "text": [
      "Not Strong Number\n"
     ]
    }
   ],
   "source": [
    "import math\n",
    "\n",
    "# Read the number\n",
    "n = int(input())\n",
    "original = n  # Save original number for comparison later\n",
    "sum_factorial = 0  # This will store sum of factorials\n",
    "\n",
    "# Extract each digit and calculate its factorial\n",
    "while n > 0:\n",
    "    digit = n % 10  # Get last digit (145 % 10 = 5)\n",
    "    sum_factorial += math.factorial(digit)  # Add factorial to sum\n",
    "    n //= 10  # Remove last digit (145 // 10 = 14)\n",
    "\n",
    "# Check if sum of factorials equals original number\n",
    "if sum_factorial == original:\n",
    "    print(\"Strong Number\")\n",
    "else:\n",
    "    print(\"Not Strong Number\")"
   ]
  },
  {
   "cell_type": "code",
   "execution_count": 2,
   "id": "2212c570",
   "metadata": {},
   "outputs": [
    {
     "name": "stdout",
     "output_type": "stream",
     "text": [
      "2.0\n"
     ]
    }
   ],
   "source": [
    "integers = input()\n",
    "a, b = map(int, integers.split(\" \"))\n",
    "def safe_divide(a, b):\n",
    "  try:\n",
    "    result = a / b\n",
    "  except ZeroDivisionError:\n",
    "    return \"Division by zero\"\n",
    "  else:\n",
    "    return result\n",
    "  \n",
    "print(safe_divide(a, b))"
   ]
  }
 ],
 "metadata": {
  "kernelspec": {
   "display_name": ".venv",
   "language": "python",
   "name": "python3"
  },
  "language_info": {
   "codemirror_mode": {
    "name": "ipython",
    "version": 3
   },
   "file_extension": ".py",
   "mimetype": "text/x-python",
   "name": "python",
   "nbconvert_exporter": "python",
   "pygments_lexer": "ipython3",
   "version": "3.13.5"
  }
 },
 "nbformat": 4,
 "nbformat_minor": 5
}
