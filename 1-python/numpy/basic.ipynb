{
 "cells": [
  {
   "cell_type": "markdown",
   "id": "12f3289f",
   "metadata": {},
   "source": [
    "# Basic NumPy Operations"
   ]
  },
  {
   "cell_type": "code",
   "execution_count": 3,
   "id": "dbabb5e1",
   "metadata": {},
   "outputs": [
    {
     "name": "stdout",
     "output_type": "stream",
     "text": [
      "1\n",
      "(5,)\n",
      "5\n",
      "int64\n"
     ]
    }
   ],
   "source": [
    "import numpy as np\n",
    "\n",
    "nd_arr = np.array([1, 2, 3, 4, 5])\n",
    "print(nd_arr.ndim) # number of dimensions\n",
    "print(nd_arr.shape) # rows, columns\n",
    "print(nd_arr.size)  # total number of elements\n",
    "print(nd_arr.dtype)"
   ]
  },
  {
   "cell_type": "code",
   "execution_count": 5,
   "id": "50f2980a",
   "metadata": {},
   "outputs": [
    {
     "name": "stdout",
     "output_type": "stream",
     "text": [
      "[1 2 3 4 5]\n"
     ]
    }
   ],
   "source": [
    "typed_arr = np.array([1, 2.5, 3, 4.3, 5], dtype=int)\n",
    "print(typed_arr)"
   ]
  },
  {
   "cell_type": "markdown",
   "id": "2e965d13",
   "metadata": {},
   "source": [
    "## ND Array creation"
   ]
  },
  {
   "cell_type": "code",
   "execution_count": 13,
   "id": "b5037d66",
   "metadata": {},
   "outputs": [
    {
     "name": "stdout",
     "output_type": "stream",
     "text": [
      "from list: [1 2 3 4 5]\n",
      "from tuple: [1 2 3 4 5]\n",
      "zeros array:\n",
      " [[0. 0. 0. 0.]\n",
      " [0. 0. 0. 0.]\n",
      " [0. 0. 0. 0.]]\n",
      "ones array:\n",
      " [[1. 1. 1. 1. 1.]\n",
      " [1. 1. 1. 1. 1.]]\n",
      "arange array: [10 12 14 16 18 20]\n",
      "linspace array: [0.   0.25 0.5  0.75 1.  ]\n"
     ]
    }
   ],
   "source": [
    "list_arr = np.array([1, 2, 3, 4, 5])\n",
    "print(\"from list:\", list_arr)\n",
    "tuple_arr = np.array((1, 2, 3, 4, 5))\n",
    "print(\"from tuple:\", tuple_arr)\n",
    "zeros_arr = np.zeros((3, 4))\n",
    "print(\"zeros array:\\n\", zeros_arr)\n",
    "ones_arr = np.ones((2, 5))\n",
    "print(\"ones array:\\n\", ones_arr)\n",
    "range_arr = np.arange(10, 21, 2)\n",
    "print(\"arange array:\", range_arr)\n",
    "linspace_arr = np.linspace(0, 1, 5)\n",
    "print(\"linspace array:\", linspace_arr)"
   ]
  },
  {
   "cell_type": "code",
   "execution_count": 17,
   "id": "f00574b7",
   "metadata": {},
   "outputs": [
    {
     "name": "stdout",
     "output_type": "stream",
     "text": [
      "[[0.25752829 0.38655818 0.58671146]\n",
      " [0.41509825 0.51682641 0.82382475]\n",
      " [0.86820695 0.53172524 0.67970616]]\n",
      "[[7 1 5 9]\n",
      " [3 3 2 8]\n",
      " [6 9 7 7]\n",
      " [2 4 9 6]]\n"
     ]
    }
   ],
   "source": [
    "print(np.random.rand(3, 3))  # 3x3 array with random floats in [0.0, 1.0]\n",
    "print(np.random.randint(1, 10, (4, 4)))  # 4x4 array with random ints in [1, 10]"
   ]
  },
  {
   "cell_type": "code",
   "execution_count": 5,
   "id": "58621668",
   "metadata": {},
   "outputs": [
    {
     "name": "stdout",
     "output_type": "stream",
     "text": [
      "identity matrix\n",
      " [[1. 0. 0.]\n",
      " [0. 1. 0.]\n",
      " [0. 0. 1.]]\n",
      "diagonal: \n",
      " [[1 0 0]\n",
      " [0 2 0]\n",
      " [0 0 3]]\n"
     ]
    }
   ],
   "source": [
    "import numpy as np\n",
    "print(\"identity matrix\\n\", np.eye(3))\n",
    "print(\"diagonal: \\n\", np.diag([1, 2, 3]))"
   ]
  },
  {
   "cell_type": "code",
   "execution_count": 14,
   "id": "8a5a1699",
   "metadata": {},
   "outputs": [
    {
     "name": "stdout",
     "output_type": "stream",
     "text": [
      "[2 3 4]\n",
      "1 2 3 4 5 "
     ]
    }
   ],
   "source": [
    "arr = np.array([1, 2, 3, 4, 5])\n",
    "print(arr[1:4])\n",
    "\n",
    "for x in np.nditer(arr):\n",
    "    print(x, end=' ')"
   ]
  }
 ],
 "metadata": {
  "kernelspec": {
   "display_name": ".venv",
   "language": "python",
   "name": "python3"
  },
  "language_info": {
   "codemirror_mode": {
    "name": "ipython",
    "version": 3
   },
   "file_extension": ".py",
   "mimetype": "text/x-python",
   "name": "python",
   "nbconvert_exporter": "python",
   "pygments_lexer": "ipython3",
   "version": "3.13.5"
  }
 },
 "nbformat": 4,
 "nbformat_minor": 5
}
